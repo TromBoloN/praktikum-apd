{
 "cells": [
  {
   "cell_type": "markdown",
   "id": "1558be02",
   "metadata": {},
   "source": [
    "SET Operasi"
   ]
  },
  {
   "cell_type": "code",
   "execution_count": null,
   "id": "d54defd9",
   "metadata": {},
   "outputs": [
    {
     "name": "stdout",
     "output_type": "stream",
     "text": [
      "['arif', 'test', 'test1', 'test1']\n",
      "{'test1', 'bagas', 'arif', 'test'}\n",
      "{'bagas', 'arif', 'test'}\n",
      "{'bagas', 'romeo', 'arif', 'dani', 'test', 'juliet'}\n"
     ]
    }
   ],
   "source": [
    "list_mahasiswa = ['arif', 'test', 'test1', 'test1']\n",
    "print(list_mahasiswa)\n",
    "\n",
    "set_mahasiswa = {'dani','romeo','juliet','juliet'}\n",
    "set_mahasiswa2 = set(list_mahasiswa)\n",
    "\n",
    "set_mahasiswa2.add('bagas')\n",
    "print(set_mahasiswa2)\n",
    "# set_mahasiswa2.remove('test') kalau di jalanin 2 kali bakal error karena jupyter menyimpan memory environment ini terpisah dengan set nya\n",
    "# print(set_mahasiswa2)\n",
    "set_mahasiswa2.discard('test1')\n",
    "print(set_mahasiswa2)\n",
    "\n",
    "gabung = set_mahasiswa.union(set_mahasiswa2)\n",
    "print(gabung)\n",
    "\n",
    "\n"
   ]
  },
  {
   "cell_type": "markdown",
   "id": "ebb21a35",
   "metadata": {},
   "source": [
    "SET Operasi tapi "
   ]
  },
  {
   "cell_type": "code",
   "execution_count": 31,
   "id": "e910eedb",
   "metadata": {},
   "outputs": [
    {
     "name": "stdout",
     "output_type": "stream",
     "text": [
      "{'sate', 'nasi', 'air', 'ayam', 'teh'}\n",
      "{'sate'}\n",
      "{'nasi', 'ayam'}\n",
      "{'sate', 'nasi', 'air', 'ayam', 'teh'}\n",
      "None\n"
     ]
    }
   ],
   "source": [
    "set_Makanan = {'nasi','ayam','sate'}\n",
    "set_Minuman = {'air','teh','sate'}\n",
    "set_Cemilan = {'keripik','kacang','popcorn'} # Ini buat apa ya\n",
    "\n",
    "# Union menggabungkan kedua atau semua set yang ada dalam ()\n",
    "set_Semua = set_Makanan.union(set_Minuman)\n",
    "print(set_Semua)\n",
    "\n",
    "# Intersect mencari nilai yang sama di set pertama dan set kedua\n",
    "set_Intersect = set_Makanan.intersection(set_Minuman)\n",
    "print(set_Intersect)\n",
    "\n",
    "# Difference mencari nilai yang ada di set pertama tapi tidak ada di set kedua\n",
    "set_Diff = set_Makanan.difference(set_Minuman)\n",
    "print(set_Diff)\n",
    "\n",
    "# Update menggabungkan set pertama dengan set kedua dan menyimpan hasilnya di set pertama\n",
    "set_Update = set_Makanan.update(set_Minuman)\n",
    "print(set_Makanan)\n",
    "print(set_Update)  # None karena update tidak mengembalikan nilai baru"
   ]
  },
  {
   "cell_type": "markdown",
   "id": "b428aab3",
   "metadata": {},
   "source": [
    "DICTIONARY"
   ]
  },
  {
   "cell_type": "code",
   "execution_count": null,
   "id": "2d2952ac",
   "metadata": {},
   "outputs": [
    {
     "name": "stdout",
     "output_type": "stream",
     "text": [
      "{'user2': {'nama': 'Budi', 'umur': 22, 'pekerjaan': 'Programmer'}, 'users3': {'nama': 'Citra', 'umur': 21, 'pekerjaan': 'Programmer'}}\n",
      "Username: user1\n",
      "nama: Arif\n",
      "umur: 20\n",
      "pekerjaan: Mahasiswa\n",
      "\n",
      "Username: user2\n",
      "nama: Budi\n",
      "umur: 22\n",
      "pekerjaan: Programmer\n",
      "\n",
      "Username: users3\n",
      "nama: Citra\n",
      "umur: 21\n",
      "pekerjaan: Programmer\n",
      "\n",
      "Username: user4\n",
      "nama: Dewi\n",
      "umur: 23\n",
      "pekerjaan: Designer\n",
      "\n",
      "Username: user5\n",
      "nama: Arif\n",
      "password: 1324\n",
      "umur: 12\n",
      "pekerjaan: 1\n",
      "\n"
     ]
    }
   ],
   "source": [
    "users = {\n",
    "    \"user1\": {\n",
    "        \"nama\": \"Arif\",\n",
    "        \"umur\": 20,\n",
    "        \"pekerjaan\": \"Mahasiswa\"\n",
    "    },\n",
    "    \"user2\": {\n",
    "        \"nama\": \"Budi\",\n",
    "        \"umur\": 22,\n",
    "        \"pekerjaan\": \"Programmer\"\n",
    "    },\n",
    "    \"users3\": {\n",
    "        \"nama\": \"Citra\",\n",
    "        \"umur\": 21,\n",
    "        \"pekerjaan\": \"Programmer\"\n",
    "    }\n",
    "}\n",
    "\n",
    "\n",
    "users[\"user4\"] = {\n",
    "    \"nama\": \"Dewi\",\n",
    "    \"umur\": 23,\n",
    "    \"pekerjaan\": \"Designer\"\n",
    "}\n",
    "\n",
    "\n",
    "\n",
    "userProgrammer = {a: users[a] for a in users if users[a]['pekerjaan'] == 'Programmer'}\n",
    "\n",
    "print(userProgrammer)\n",
    "\n",
    "usernameBaru = input(\"Masukkan Username baru: \")\n",
    "namaBaru = input(\"Masukkan nama baru: \")\n",
    "umurBaru = int(input(\"Masukkan Umur\"))\n",
    "kerjaanBaru = input(\"Masukkan kerjaan : \")\n",
    "\n",
    "if usernameBaru in users:\n",
    "    print(f\"Tak boleh sama lah kau input {usernameBaru} yang namanya sudah ada di data\")\n",
    "else:\n",
    "    users[usernameBaru] = {\"nama\": namaBaru, \"umur\": umurBaru, \"pekerjaan\": kerjaanBaru}\n",
    "    \n",
    "\n",
    "\n",
    "\n",
    "for i in users:\n",
    "    print(f\"Username: {i}\")\n",
    "    for key, value in users[i].items():\n",
    "        print(f\"{key}: {value}\")\n",
    "    print()\n",
    "\n",
    "\n"
   ]
  }
 ],
 "metadata": {
  "kernelspec": {
   "display_name": "Python 3",
   "language": "python",
   "name": "python3"
  },
  "language_info": {
   "codemirror_mode": {
    "name": "ipython",
    "version": 3
   },
   "file_extension": ".py",
   "mimetype": "text/x-python",
   "name": "python",
   "nbconvert_exporter": "python",
   "pygments_lexer": "ipython3",
   "version": "3.12.2"
  }
 },
 "nbformat": 4,
 "nbformat_minor": 5
}
